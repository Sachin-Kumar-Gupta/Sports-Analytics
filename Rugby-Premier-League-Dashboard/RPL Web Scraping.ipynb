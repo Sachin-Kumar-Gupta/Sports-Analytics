{
  "nbformat": 4,
  "nbformat_minor": 0,
  "metadata": {
    "colab": {
      "provenance": []
    },
    "kernelspec": {
      "name": "python3",
      "display_name": "Python 3"
    },
    "language_info": {
      "name": "python"
    }
  },
  "cells": [
    {
      "cell_type": "code",
      "source": [
        "import requests\n",
        "import pandas as pd\n",
        "from tqdm import tqdm\n",
        "import time"
      ],
      "metadata": {
        "id": "-ldNG69M44xk"
      },
      "execution_count": null,
      "outputs": []
    },
    {
      "cell_type": "code",
      "source": [
        "# Use the actual link you copied from DevTools\n",
        "url = \"https://www.rugbypremierleague.in/feeds/live/FixturesAndResults.json\"\n",
        "\n",
        "# Step 2: Make the request\n",
        "headers = {\n",
        "    \"User-Agent\": \"Mozilla/5.0\",\n",
        "    \"Accept\": \"application/json\"\n",
        "}\n",
        "response = requests.get(url, headers=headers)"
      ],
      "metadata": {
        "id": "PkHEPrWv44s8"
      },
      "execution_count": null,
      "outputs": []
    },
    {
      "cell_type": "code",
      "source": [
        "# Step 3: Load as JSON\n",
        "if response.status_code == 200:\n",
        "    data = response.json()\n",
        "    print(\"✅ Data loaded successfully\")\n",
        "else:\n",
        "    raise Exception(f\"❌ Failed to fetch data: {response.status_code}\")\n"
      ],
      "metadata": {
        "colab": {
          "base_uri": "https://localhost:8080/"
        },
        "id": "gaLW3oHr7C9U",
        "outputId": "cda96019-f712-4e10-c35a-f7e334564930"
      },
      "execution_count": null,
      "outputs": [
        {
          "output_type": "stream",
          "name": "stdout",
          "text": [
            "✅ Data loaded successfully\n"
          ]
        }
      ]
    },
    {
      "cell_type": "code",
      "source": [
        "json_data = response.json()\n",
        "print(json_data.keys())"
      ],
      "metadata": {
        "colab": {
          "base_uri": "https://localhost:8080/"
        },
        "id": "PWpjr0KRFdNP",
        "outputId": "1bfe7b80-05ce-4b9d-bb16-7bbd2a46f6ce"
      },
      "execution_count": null,
      "outputs": [
        {
          "output_type": "stream",
          "name": "stdout",
          "text": [
            "dict_keys(['matches'])\n"
          ]
        }
      ]
    },
    {
      "cell_type": "code",
      "source": [
        "# Step 4: Normalize JSON\n",
        "matches = pd.json_normalize(data['matches'])  # 'data' is the main list of matches\n"
      ],
      "metadata": {
        "id": "FP1_yUn-7CyO"
      },
      "execution_count": null,
      "outputs": []
    },
    {
      "cell_type": "code",
      "source": [
        "# ✅ Print all columns\n",
        "print(matches.columns.tolist())"
      ],
      "metadata": {
        "colab": {
          "base_uri": "https://localhost:8080/"
        },
        "id": "F7tsCMj3GFR8",
        "outputId": "b98d0391-d21f-4d0d-ea9b-7adec6daa0e6"
      },
      "execution_count": null,
      "outputs": [
        {
          "output_type": "stream",
          "name": "stdout",
          "text": [
            "['is_rescheduled', 'event_status', 'series_id', 'event_state', 'event_sub_status_id', 'result_code', 'event_islinkable', 'event_status_id', 'result_sub_code', 'league_code', 'clock_minutes', 'venue_id', 'event_sub_status', 'game_id', 'match_number', 'Match_ID', 'buy_tickets', 'participants', 'tour_id', 'end_date', 'winning_margin', 'venue_name', 'event_group', 'event_name', 'series_name', 'sport', 'tour_name', 'start_date', 'event_format', 'event_stage', 'is_playoff']\n"
          ]
        }
      ]
    },
    {
      "cell_type": "code",
      "source": [
        "data['matches'][0]['participants']"
      ],
      "metadata": {
        "colab": {
          "base_uri": "https://localhost:8080/"
        },
        "id": "ySwLjfg0HIEZ",
        "outputId": "1b68e96c-a11c-45fd-e7c6-e4a5f3c161dd"
      },
      "execution_count": null,
      "outputs": [
        {
          "output_type": "execute_result",
          "data": {
            "text/plain": [
              "[{'name': 'Bengaluru Bravehearts',\n",
              "  'short_name': 'BLB',\n",
              "  'id': '30',\n",
              "  'value': '21',\n",
              "  'highlight': '',\n",
              "  'players_involved': [{'name': 'Pol Pla',\n",
              "    'id': '165',\n",
              "    'value': '',\n",
              "    'type': ''},\n",
              "   {'name': 'Tone Ng Shiu', 'id': '191', 'value': '', 'type': ''},\n",
              "   {'name': 'Iowane Teba', 'id': '245', 'value': '', 'type': ''},\n",
              "   {'name': 'Liam Poulton', 'id': '370', 'value': '', 'type': ''},\n",
              "   {'name': 'Mak Kwai Chung', 'id': '371', 'value': '', 'type': ''},\n",
              "   {'name': 'Akuila Rokolisoa', 'id': '372', 'value': '', 'type': ''},\n",
              "   {'name': 'Scott Curry', 'id': '373', 'value': '', 'type': ''},\n",
              "   {'name': 'Mohit Khatri', 'id': '374', 'value': '', 'type': ''},\n",
              "   {'name': 'Karan Rajbhar', 'id': '375', 'value': '', 'type': ''},\n",
              "   {'name': 'Arpan Chhetri', 'id': '376', 'value': '', 'type': ''},\n",
              "   {'name': 'Suresh Kumar', 'id': '377', 'value': '', 'type': ''},\n",
              "   {'name': 'Prashant Singh', 'id': '378', 'value': '', 'type': ''},\n",
              "   {'name': 'Philip Wokorach', 'id': '1575', 'value': '', 'type': ''},\n",
              "   {'name': 'Govind Gupta', 'id': '1589', 'value': '', 'type': ''},\n",
              "   {'name': 'Abhishek Tutti', 'id': '1595', 'value': '', 'type': ''}]},\n",
              " {'name': 'Delhi Redz',\n",
              "  'short_name': 'DER',\n",
              "  'id': '34',\n",
              "  'value': '21',\n",
              "  'highlight': '',\n",
              "  'players_involved': [{'name': 'Matteo Graziano',\n",
              "    'id': '140',\n",
              "    'value': '',\n",
              "    'type': ''},\n",
              "   {'name': 'Matias Osadczuk', 'id': '144', 'value': '', 'type': ''},\n",
              "   {'name': 'Alejandro Laforga', 'id': '168', 'value': '', 'type': ''},\n",
              "   {'name': 'Patrick Odongo Okongo', 'id': '270', 'value': '', 'type': ''},\n",
              "   {'name': 'Jordan Conroy', 'id': '284', 'value': '', 'type': ''},\n",
              "   {'name': 'Michael Coverdale', 'id': '410', 'value': '', 'type': ''},\n",
              "   {'name': 'Moritz Noll', 'id': '411', 'value': '', 'type': ''},\n",
              "   {'name': 'Rajdeep Saha', 'id': '413', 'value': '', 'type': ''},\n",
              "   {'name': 'Deepak Punia', 'id': '414', 'value': '', 'type': ''},\n",
              "   {'name': 'Sunil Chawan', 'id': '416', 'value': '', 'type': ''},\n",
              "   {'name': 'Raj Kumar', 'id': '417', 'value': '', 'type': ''},\n",
              "   {'name': 'Robin Plumpe', 'id': '1578', 'value': '', 'type': ''},\n",
              "   {'name': 'Mohit', 'id': '1584', 'value': '', 'type': ''}]}]"
            ]
          },
          "metadata": {},
          "execution_count": 7
        }
      ]
    },
    {
      "cell_type": "code",
      "source": [
        "# Step 5: Select and rename useful columns\n",
        "match_list = []\n",
        "\n",
        "for match in data['matches']:\n",
        "    try:\n",
        "        team_a = match['participants'][0]['name']\n",
        "        team_a_score = match['participants'][0].get('value', 'N/A')\n",
        "\n",
        "        team_b = match['participants'][1]['name']\n",
        "        team_b_score = match['participants'][1].get('value', 'N/A')\n",
        "\n",
        "        match_list.append({\n",
        "            'Match ID' : match['Match_ID']\n",
        "            'Date': match['start_date'],\n",
        "            'Venue': match['venue_name'],\n",
        "            'Team A': team_a,\n",
        "            'Team A Score': team_a_score,\n",
        "            'Team B': team_b,\n",
        "            'Team B Score': team_b_score,\n",
        "            'Match Status': match['event_status'],\n",
        "            'Match Name': match['event_name']\n",
        "        })\n",
        "    except Exception as e:\n",
        "        print(f\"Skipped a match due to error: {e}\")\n",
        "        continue"
      ],
      "metadata": {
        "id": "FVcIC_3F7Cvb"
      },
      "execution_count": null,
      "outputs": []
    },
    {
      "cell_type": "code",
      "source": [
        "# Step 6: Convert date format (optional)\n",
        "df = pd.DataFrame(match_list)\n",
        "df['Date'] = pd.to_datetime(df['Date']).dt.date"
      ],
      "metadata": {
        "id": "U0-i3d6F7Csy"
      },
      "execution_count": null,
      "outputs": []
    },
    {
      "cell_type": "code",
      "source": [
        "df.head()"
      ],
      "metadata": {
        "colab": {
          "base_uri": "https://localhost:8080/",
          "height": 310
        },
        "id": "WRSIMn4G7Cp4",
        "outputId": "ec00c00b-e85d-40cd-8668-c1f447e031c1"
      },
      "execution_count": null,
      "outputs": [
        {
          "output_type": "execute_result",
          "data": {
            "text/plain": [
              "         Date                           Venue                 Team A  \\\n",
              "0  2025-06-15  Andheri Sports Complex, Mumbai  Bengaluru Bravehearts   \n",
              "1  2025-06-15  Andheri Sports Complex, Mumbai          Chennai Bulls   \n",
              "2  2025-06-15  Andheri Sports Complex, Mumbai       Hyderabad Heroes   \n",
              "3  2025-06-16  Andheri Sports Complex, Mumbai   Kalinga Black Tigers   \n",
              "4  2025-06-16  Andheri Sports Complex, Mumbai        Mumbai Dreamers   \n",
              "\n",
              "  Team A Score                 Team B Team B Score     Match Status  \\\n",
              "0           21             Delhi Redz           21  Match Completed   \n",
              "1           24        Mumbai Dreamers            5  Match Completed   \n",
              "2           24   Kalinga Black Tigers           14  Match Completed   \n",
              "3           10  Bengaluru Bravehearts           35  Match Completed   \n",
              "4           17          Chennai Bulls           31  Match Completed   \n",
              "\n",
              "                   Match Name  \n",
              "0  Rugby Premier League, 2025  \n",
              "1  Rugby Premier League, 2025  \n",
              "2  Rugby Premier League, 2025  \n",
              "3  Rugby Premier League, 2025  \n",
              "4  Rugby Premier League, 2025  "
            ],
            "text/html": [
              "\n",
              "  <div id=\"df-2e024738-423b-404e-b75d-71c17fb551da\" class=\"colab-df-container\">\n",
              "    <div>\n",
              "<style scoped>\n",
              "    .dataframe tbody tr th:only-of-type {\n",
              "        vertical-align: middle;\n",
              "    }\n",
              "\n",
              "    .dataframe tbody tr th {\n",
              "        vertical-align: top;\n",
              "    }\n",
              "\n",
              "    .dataframe thead th {\n",
              "        text-align: right;\n",
              "    }\n",
              "</style>\n",
              "<table border=\"1\" class=\"dataframe\">\n",
              "  <thead>\n",
              "    <tr style=\"text-align: right;\">\n",
              "      <th></th>\n",
              "      <th>Date</th>\n",
              "      <th>Venue</th>\n",
              "      <th>Team A</th>\n",
              "      <th>Team A Score</th>\n",
              "      <th>Team B</th>\n",
              "      <th>Team B Score</th>\n",
              "      <th>Match Status</th>\n",
              "      <th>Match Name</th>\n",
              "    </tr>\n",
              "  </thead>\n",
              "  <tbody>\n",
              "    <tr>\n",
              "      <th>0</th>\n",
              "      <td>2025-06-15</td>\n",
              "      <td>Andheri Sports Complex, Mumbai</td>\n",
              "      <td>Bengaluru Bravehearts</td>\n",
              "      <td>21</td>\n",
              "      <td>Delhi Redz</td>\n",
              "      <td>21</td>\n",
              "      <td>Match Completed</td>\n",
              "      <td>Rugby Premier League, 2025</td>\n",
              "    </tr>\n",
              "    <tr>\n",
              "      <th>1</th>\n",
              "      <td>2025-06-15</td>\n",
              "      <td>Andheri Sports Complex, Mumbai</td>\n",
              "      <td>Chennai Bulls</td>\n",
              "      <td>24</td>\n",
              "      <td>Mumbai Dreamers</td>\n",
              "      <td>5</td>\n",
              "      <td>Match Completed</td>\n",
              "      <td>Rugby Premier League, 2025</td>\n",
              "    </tr>\n",
              "    <tr>\n",
              "      <th>2</th>\n",
              "      <td>2025-06-15</td>\n",
              "      <td>Andheri Sports Complex, Mumbai</td>\n",
              "      <td>Hyderabad Heroes</td>\n",
              "      <td>24</td>\n",
              "      <td>Kalinga Black Tigers</td>\n",
              "      <td>14</td>\n",
              "      <td>Match Completed</td>\n",
              "      <td>Rugby Premier League, 2025</td>\n",
              "    </tr>\n",
              "    <tr>\n",
              "      <th>3</th>\n",
              "      <td>2025-06-16</td>\n",
              "      <td>Andheri Sports Complex, Mumbai</td>\n",
              "      <td>Kalinga Black Tigers</td>\n",
              "      <td>10</td>\n",
              "      <td>Bengaluru Bravehearts</td>\n",
              "      <td>35</td>\n",
              "      <td>Match Completed</td>\n",
              "      <td>Rugby Premier League, 2025</td>\n",
              "    </tr>\n",
              "    <tr>\n",
              "      <th>4</th>\n",
              "      <td>2025-06-16</td>\n",
              "      <td>Andheri Sports Complex, Mumbai</td>\n",
              "      <td>Mumbai Dreamers</td>\n",
              "      <td>17</td>\n",
              "      <td>Chennai Bulls</td>\n",
              "      <td>31</td>\n",
              "      <td>Match Completed</td>\n",
              "      <td>Rugby Premier League, 2025</td>\n",
              "    </tr>\n",
              "  </tbody>\n",
              "</table>\n",
              "</div>\n",
              "    <div class=\"colab-df-buttons\">\n",
              "\n",
              "  <div class=\"colab-df-container\">\n",
              "    <button class=\"colab-df-convert\" onclick=\"convertToInteractive('df-2e024738-423b-404e-b75d-71c17fb551da')\"\n",
              "            title=\"Convert this dataframe to an interactive table.\"\n",
              "            style=\"display:none;\">\n",
              "\n",
              "  <svg xmlns=\"http://www.w3.org/2000/svg\" height=\"24px\" viewBox=\"0 -960 960 960\">\n",
              "    <path d=\"M120-120v-720h720v720H120Zm60-500h600v-160H180v160Zm220 220h160v-160H400v160Zm0 220h160v-160H400v160ZM180-400h160v-160H180v160Zm440 0h160v-160H620v160ZM180-180h160v-160H180v160Zm440 0h160v-160H620v160Z\"/>\n",
              "  </svg>\n",
              "    </button>\n",
              "\n",
              "  <style>\n",
              "    .colab-df-container {\n",
              "      display:flex;\n",
              "      gap: 12px;\n",
              "    }\n",
              "\n",
              "    .colab-df-convert {\n",
              "      background-color: #E8F0FE;\n",
              "      border: none;\n",
              "      border-radius: 50%;\n",
              "      cursor: pointer;\n",
              "      display: none;\n",
              "      fill: #1967D2;\n",
              "      height: 32px;\n",
              "      padding: 0 0 0 0;\n",
              "      width: 32px;\n",
              "    }\n",
              "\n",
              "    .colab-df-convert:hover {\n",
              "      background-color: #E2EBFA;\n",
              "      box-shadow: 0px 1px 2px rgba(60, 64, 67, 0.3), 0px 1px 3px 1px rgba(60, 64, 67, 0.15);\n",
              "      fill: #174EA6;\n",
              "    }\n",
              "\n",
              "    .colab-df-buttons div {\n",
              "      margin-bottom: 4px;\n",
              "    }\n",
              "\n",
              "    [theme=dark] .colab-df-convert {\n",
              "      background-color: #3B4455;\n",
              "      fill: #D2E3FC;\n",
              "    }\n",
              "\n",
              "    [theme=dark] .colab-df-convert:hover {\n",
              "      background-color: #434B5C;\n",
              "      box-shadow: 0px 1px 3px 1px rgba(0, 0, 0, 0.15);\n",
              "      filter: drop-shadow(0px 1px 2px rgba(0, 0, 0, 0.3));\n",
              "      fill: #FFFFFF;\n",
              "    }\n",
              "  </style>\n",
              "\n",
              "    <script>\n",
              "      const buttonEl =\n",
              "        document.querySelector('#df-2e024738-423b-404e-b75d-71c17fb551da button.colab-df-convert');\n",
              "      buttonEl.style.display =\n",
              "        google.colab.kernel.accessAllowed ? 'block' : 'none';\n",
              "\n",
              "      async function convertToInteractive(key) {\n",
              "        const element = document.querySelector('#df-2e024738-423b-404e-b75d-71c17fb551da');\n",
              "        const dataTable =\n",
              "          await google.colab.kernel.invokeFunction('convertToInteractive',\n",
              "                                                    [key], {});\n",
              "        if (!dataTable) return;\n",
              "\n",
              "        const docLinkHtml = 'Like what you see? Visit the ' +\n",
              "          '<a target=\"_blank\" href=https://colab.research.google.com/notebooks/data_table.ipynb>data table notebook</a>'\n",
              "          + ' to learn more about interactive tables.';\n",
              "        element.innerHTML = '';\n",
              "        dataTable['output_type'] = 'display_data';\n",
              "        await google.colab.output.renderOutput(dataTable, element);\n",
              "        const docLink = document.createElement('div');\n",
              "        docLink.innerHTML = docLinkHtml;\n",
              "        element.appendChild(docLink);\n",
              "      }\n",
              "    </script>\n",
              "  </div>\n",
              "\n",
              "\n",
              "    <div id=\"df-02ea9db9-f12f-42d4-aa32-0a93086e556b\">\n",
              "      <button class=\"colab-df-quickchart\" onclick=\"quickchart('df-02ea9db9-f12f-42d4-aa32-0a93086e556b')\"\n",
              "                title=\"Suggest charts\"\n",
              "                style=\"display:none;\">\n",
              "\n",
              "<svg xmlns=\"http://www.w3.org/2000/svg\" height=\"24px\"viewBox=\"0 0 24 24\"\n",
              "     width=\"24px\">\n",
              "    <g>\n",
              "        <path d=\"M19 3H5c-1.1 0-2 .9-2 2v14c0 1.1.9 2 2 2h14c1.1 0 2-.9 2-2V5c0-1.1-.9-2-2-2zM9 17H7v-7h2v7zm4 0h-2V7h2v10zm4 0h-2v-4h2v4z\"/>\n",
              "    </g>\n",
              "</svg>\n",
              "      </button>\n",
              "\n",
              "<style>\n",
              "  .colab-df-quickchart {\n",
              "      --bg-color: #E8F0FE;\n",
              "      --fill-color: #1967D2;\n",
              "      --hover-bg-color: #E2EBFA;\n",
              "      --hover-fill-color: #174EA6;\n",
              "      --disabled-fill-color: #AAA;\n",
              "      --disabled-bg-color: #DDD;\n",
              "  }\n",
              "\n",
              "  [theme=dark] .colab-df-quickchart {\n",
              "      --bg-color: #3B4455;\n",
              "      --fill-color: #D2E3FC;\n",
              "      --hover-bg-color: #434B5C;\n",
              "      --hover-fill-color: #FFFFFF;\n",
              "      --disabled-bg-color: #3B4455;\n",
              "      --disabled-fill-color: #666;\n",
              "  }\n",
              "\n",
              "  .colab-df-quickchart {\n",
              "    background-color: var(--bg-color);\n",
              "    border: none;\n",
              "    border-radius: 50%;\n",
              "    cursor: pointer;\n",
              "    display: none;\n",
              "    fill: var(--fill-color);\n",
              "    height: 32px;\n",
              "    padding: 0;\n",
              "    width: 32px;\n",
              "  }\n",
              "\n",
              "  .colab-df-quickchart:hover {\n",
              "    background-color: var(--hover-bg-color);\n",
              "    box-shadow: 0 1px 2px rgba(60, 64, 67, 0.3), 0 1px 3px 1px rgba(60, 64, 67, 0.15);\n",
              "    fill: var(--button-hover-fill-color);\n",
              "  }\n",
              "\n",
              "  .colab-df-quickchart-complete:disabled,\n",
              "  .colab-df-quickchart-complete:disabled:hover {\n",
              "    background-color: var(--disabled-bg-color);\n",
              "    fill: var(--disabled-fill-color);\n",
              "    box-shadow: none;\n",
              "  }\n",
              "\n",
              "  .colab-df-spinner {\n",
              "    border: 2px solid var(--fill-color);\n",
              "    border-color: transparent;\n",
              "    border-bottom-color: var(--fill-color);\n",
              "    animation:\n",
              "      spin 1s steps(1) infinite;\n",
              "  }\n",
              "\n",
              "  @keyframes spin {\n",
              "    0% {\n",
              "      border-color: transparent;\n",
              "      border-bottom-color: var(--fill-color);\n",
              "      border-left-color: var(--fill-color);\n",
              "    }\n",
              "    20% {\n",
              "      border-color: transparent;\n",
              "      border-left-color: var(--fill-color);\n",
              "      border-top-color: var(--fill-color);\n",
              "    }\n",
              "    30% {\n",
              "      border-color: transparent;\n",
              "      border-left-color: var(--fill-color);\n",
              "      border-top-color: var(--fill-color);\n",
              "      border-right-color: var(--fill-color);\n",
              "    }\n",
              "    40% {\n",
              "      border-color: transparent;\n",
              "      border-right-color: var(--fill-color);\n",
              "      border-top-color: var(--fill-color);\n",
              "    }\n",
              "    60% {\n",
              "      border-color: transparent;\n",
              "      border-right-color: var(--fill-color);\n",
              "    }\n",
              "    80% {\n",
              "      border-color: transparent;\n",
              "      border-right-color: var(--fill-color);\n",
              "      border-bottom-color: var(--fill-color);\n",
              "    }\n",
              "    90% {\n",
              "      border-color: transparent;\n",
              "      border-bottom-color: var(--fill-color);\n",
              "    }\n",
              "  }\n",
              "</style>\n",
              "\n",
              "      <script>\n",
              "        async function quickchart(key) {\n",
              "          const quickchartButtonEl =\n",
              "            document.querySelector('#' + key + ' button');\n",
              "          quickchartButtonEl.disabled = true;  // To prevent multiple clicks.\n",
              "          quickchartButtonEl.classList.add('colab-df-spinner');\n",
              "          try {\n",
              "            const charts = await google.colab.kernel.invokeFunction(\n",
              "                'suggestCharts', [key], {});\n",
              "          } catch (error) {\n",
              "            console.error('Error during call to suggestCharts:', error);\n",
              "          }\n",
              "          quickchartButtonEl.classList.remove('colab-df-spinner');\n",
              "          quickchartButtonEl.classList.add('colab-df-quickchart-complete');\n",
              "        }\n",
              "        (() => {\n",
              "          let quickchartButtonEl =\n",
              "            document.querySelector('#df-02ea9db9-f12f-42d4-aa32-0a93086e556b button');\n",
              "          quickchartButtonEl.style.display =\n",
              "            google.colab.kernel.accessAllowed ? 'block' : 'none';\n",
              "        })();\n",
              "      </script>\n",
              "    </div>\n",
              "\n",
              "    </div>\n",
              "  </div>\n"
            ],
            "application/vnd.google.colaboratory.intrinsic+json": {
              "type": "dataframe",
              "variable_name": "df",
              "summary": "{\n  \"name\": \"df\",\n  \"rows\": 34,\n  \"fields\": [\n    {\n      \"column\": \"Date\",\n      \"properties\": {\n        \"dtype\": \"date\",\n        \"min\": \"2025-06-15\",\n        \"max\": \"2025-06-29\",\n        \"num_unique_values\": 15,\n        \"samples\": [\n          \"2025-06-24\",\n          \"2025-06-26\",\n          \"2025-06-15\"\n        ],\n        \"semantic_type\": \"\",\n        \"description\": \"\"\n      }\n    },\n    {\n      \"column\": \"Venue\",\n      \"properties\": {\n        \"dtype\": \"category\",\n        \"num_unique_values\": 1,\n        \"samples\": [\n          \"Andheri Sports Complex, Mumbai\"\n        ],\n        \"semantic_type\": \"\",\n        \"description\": \"\"\n      }\n    },\n    {\n      \"column\": \"Team A\",\n      \"properties\": {\n        \"dtype\": \"category\",\n        \"num_unique_values\": 6,\n        \"samples\": [\n          \"Bengaluru Bravehearts\"\n        ],\n        \"semantic_type\": \"\",\n        \"description\": \"\"\n      }\n    },\n    {\n      \"column\": \"Team A Score\",\n      \"properties\": {\n        \"dtype\": \"string\",\n        \"num_unique_values\": 18,\n        \"samples\": [\n          \"21\"\n        ],\n        \"semantic_type\": \"\",\n        \"description\": \"\"\n      }\n    },\n    {\n      \"column\": \"Team B\",\n      \"properties\": {\n        \"dtype\": \"category\",\n        \"num_unique_values\": 6,\n        \"samples\": [\n          \"Delhi Redz\"\n        ],\n        \"semantic_type\": \"\",\n        \"description\": \"\"\n      }\n    },\n    {\n      \"column\": \"Team B Score\",\n      \"properties\": {\n        \"dtype\": \"category\",\n        \"num_unique_values\": 16,\n        \"samples\": [\n          \"21\"\n        ],\n        \"semantic_type\": \"\",\n        \"description\": \"\"\n      }\n    },\n    {\n      \"column\": \"Match Status\",\n      \"properties\": {\n        \"dtype\": \"category\",\n        \"num_unique_values\": 1,\n        \"samples\": [\n          \"Match Completed\"\n        ],\n        \"semantic_type\": \"\",\n        \"description\": \"\"\n      }\n    },\n    {\n      \"column\": \"Match Name\",\n      \"properties\": {\n        \"dtype\": \"category\",\n        \"num_unique_values\": 1,\n        \"samples\": [\n          \"Rugby Premier League, 2025\"\n        ],\n        \"semantic_type\": \"\",\n        \"description\": \"\"\n      }\n    }\n  ]\n}"
            }
          },
          "metadata": {},
          "execution_count": 10
        }
      ]
    },
    {
      "cell_type": "code",
      "source": [
        "# Step 7: Save to CSV\n",
        "df.to_csv(\"rpl_match_results_cleaned.csv\", index=False)\n",
        "print(\"✅ Cleaned data saved to rpl_match_results_cleaned.csv\")"
      ],
      "metadata": {
        "colab": {
          "base_uri": "https://localhost:8080/"
        },
        "id": "t_ghQoCd7Cm6",
        "outputId": "17364459-73d9-4243-ba8b-a5d1c929dc01"
      },
      "execution_count": null,
      "outputs": [
        {
          "output_type": "stream",
          "name": "stdout",
          "text": [
            "✅ Cleaned data saved to rpl_match_results_cleaned.csv\n"
          ]
        }
      ]
    },
    {
      "cell_type": "markdown",
      "source": [
        "# Now extracting player level dataset."
      ],
      "metadata": {
        "id": "RLcuaAeYI0aB"
      }
    },
    {
      "cell_type": "code",
      "source": [
        "# Look at all keys in one match object\n",
        "base_match_url = \"https://www.rugbypremierleague.in/feeds/live/MatchCenter_MatchID-{}.json\""
      ],
      "metadata": {
        "id": "fYRCZi1lI5TW"
      },
      "execution_count": null,
      "outputs": []
    },
    {
      "cell_type": "code",
      "source": [
        "# Checking for one match to get idea how tables are alinged and what we have to extract\n",
        "match_url = \"https://www.rugbypremierleague.in/feeds/live/MatchCenter_MatchID-43.json\"\n",
        "match_detail = requests.get(match_url).json()\n",
        "# View top-level keys\n",
        "print(match_detail.keys())"
      ],
      "metadata": {
        "colab": {
          "base_uri": "https://localhost:8080/"
        },
        "id": "gIzrtmnfI5ll",
        "outputId": "a6aefefe-be55-4f81-c2d0-41501b0f4943"
      },
      "execution_count": null,
      "outputs": [
        {
          "output_type": "stream",
          "name": "stdout",
          "text": [
            "dict_keys(['match_detail', 'teams', 'events'])\n"
          ]
        }
      ]
    },
    {
      "cell_type": "code",
      "source": [
        "# Try printing each major section\n",
        "import json\n",
        "\n",
        "# Safe pretty print of a sample\n",
        "print(json.dumps(match_detail['teams'], indent=2)[:2000])"
      ],
      "metadata": {
        "colab": {
          "base_uri": "https://localhost:8080/"
        },
        "collapsed": true,
        "id": "dAtaK077I5iE",
        "outputId": "9a6da6b1-60df-43db-c580-06ae5eec6c92"
      },
      "execution_count": null,
      "outputs": [
        {
          "output_type": "stream",
          "name": "stdout",
          "text": [
            "{\n",
            "  \"team\": [\n",
            "    {\n",
            "      \"id\": \"30\",\n",
            "      \"name\": \"Bengaluru Bravehearts\",\n",
            "      \"short_name\": \"BLB\",\n",
            "      \"display_name\": \"\",\n",
            "      \"score\": \"21\",\n",
            "      \"is_home_team\": true,\n",
            "      \"formation\": \"\",\n",
            "      \"jersy_color\": \"\",\n",
            "      \"direction\": \"\",\n",
            "      \"support_staff\": \"\",\n",
            "      \"squad\": [\n",
            "        {\n",
            "          \"id\": \"165\",\n",
            "          \"name\": \"Pol Pla\",\n",
            "          \"short_name\": \"Pol Pla\",\n",
            "          \"display_name\": \"\",\n",
            "          \"jersey_no\": \"7\",\n",
            "          \"formation\": \"\",\n",
            "          \"position_id\": \"4\",\n",
            "          \"position\": \"Back\",\n",
            "          \"is_onbench\": \"\",\n",
            "          \"is_substitute\": \"0\",\n",
            "          \"is_substituted\": \"0\",\n",
            "          \"isPlaying\": \"0\",\n",
            "          \"minutes_played\": \"18\",\n",
            "          \"jersey\": \"7\",\n",
            "          \"starter\": \"1\",\n",
            "          \"captain\": \"1\",\n",
            "          \"is_Injured\": \"0\",\n",
            "          \"attacking\": {\n",
            "            \"offloads\": \"0\",\n",
            "            \"line_breaks\": \"0\",\n",
            "            \"defenders_beaten\": \"0\",\n",
            "            \"points\": \"0\",\n",
            "            \"flyhalf_kicks\": null,\n",
            "            \"flyhalf_passes\": null,\n",
            "            \"flyhalf_runs\": null,\n",
            "            \"clean_breaks\": null,\n",
            "            \"try_assists\": \"1\",\n",
            "            \"tries\": \"0\"\n",
            "          },\n",
            "          \"defence_discipline\": {\n",
            "            \"tackles\": \"3\",\n",
            "            \"turnovers_won\": \"0\",\n",
            "            \"yellow_cards\": \"0\",\n",
            "            \"red_cards\": \"0\",\n",
            "            \"handling_errors\": \"0\",\n",
            "            \"knock_ons\": \"0\",\n",
            "            \"missed_tackles\": \"0\",\n",
            "            \"turnovers_conceded\": \"0\",\n",
            "            \"penalties_conceded\": \"0\"\n",
            "          },\n",
            "          \"kicking\": {\n",
            "            \"flyhalf_kicks\": null,\n",
            "            \"conversions\": \"0\",\n",
            "            \"penalty_goals\": \"0\"\n",
            "          },\n",
            "          \"others\": {\n",
            "            \"points_scored\": \"0\",\n",
            "            \"tries_scored\": \"0\",\n",
            "            \"conversions\": \"0\",\n",
            "            \"penalty_goals\": \"0\",\n",
            "            \"dropped_goals\": \"0\",\n",
            "            \"penalty_try\": null,\n",
            "            \"defenders_beaten\": \"0\",\n",
            "            \"offloads\": \"0\",\n",
            "            \"lineout_steals\": null,\n",
            "            \"kick_from_hand\": null\n"
          ]
        }
      ]
    },
    {
      "cell_type": "code",
      "source": [
        "url = \"https://www.rugbypremierleague.in/feeds/live/MatchCenter_MatchID-44.json\"\n",
        "response_1 = requests.get(url)\n",
        "data_1 = response.json()\n",
        "# Check if teams and squads exist\n",
        "for team in data_1.get(\"team\", []):\n",
        "    print(f\"Team: {team['name']} | Squad size: {len(team.get('squad', []))}\")\n"
      ],
      "metadata": {
        "id": "bxbmRcxxPhHQ"
      },
      "execution_count": null,
      "outputs": []
    },
    {
      "cell_type": "code",
      "source": [
        "# Flatten player structure\n",
        "def flatten_player(player_dict, team_name, match_id, match_date=None, venue=None):\n",
        "    flat = {\n",
        "        \"match_id\": match_id,\n",
        "        \"match_date\": match_date,\n",
        "        \"venue\": venue,\n",
        "        \"team\": team_name,\n",
        "        \"player_id\": player_dict.get(\"id\"),\n",
        "        \"player_name\": player_dict.get(\"name\"),\n",
        "        \"jersey_no\": player_dict.get(\"jersey_no\"),\n",
        "        \"position\": player_dict.get(\"position\"),\n",
        "        \"minutes_played\": player_dict.get(\"minutes_played\"),\n",
        "        \"is_starter\": player_dict.get(\"starter\"),\n",
        "        \"is_captain\": player_dict.get(\"captain\"),\n",
        "        \"is_substitute\": player_dict.get(\"is_substitute\"),\n",
        "        \"is_substituted\": player_dict.get(\"is_substituted\"),\n",
        "        \"is_injured\": player_dict.get(\"is_Injured\"),\n",
        "        \"is_playing\": player_dict.get(\"isPlaying\"),\n",
        "    }\n",
        "\n",
        "    for section in [\"attacking\", \"defence_discipline\", \"kicking\", \"others\"]:\n",
        "        for key, value in player_dict.get(section, {}).items():\n",
        "            flat[f\"{section}_{key}\"] = value\n",
        "\n",
        "    return flat\n",
        "\n",
        "\n",
        "# Extract player data for one match\n",
        "def extract_match_player_stats(match_id, match_date=None, venue=None):\n",
        "    url = f\"https://www.rugbypremierleague.in/feeds/live/MatchCenter_MatchID-{match_id}.json\"\n",
        "    try:\n",
        "        response = requests.get(url, timeout=10)\n",
        "        if response.status_code != 200:\n",
        "            return []\n",
        "        data = response.json()\n",
        "\n",
        "        teams = data.get(\"teams\", {}).get(\"team\", [])\n",
        "        all_players = []\n",
        "\n",
        "        for team in teams:\n",
        "            team_name = team.get(\"name\", \"Unknown\")\n",
        "            squad = team.get(\"squad\", [])\n",
        "            for player in squad:\n",
        "                flat = flatten_player(player, team_name, match_id, match_date, venue)\n",
        "                all_players.append(flat)\n",
        "\n",
        "        return all_players\n",
        "\n",
        "    except Exception as e:\n",
        "        print(f\"❌ Error for match {match_id}: {e}\")\n",
        "        return []\n",
        "\n",
        "\n",
        "# Main loop for all matches\n",
        "def extract_all_matches():\n",
        "    fixtures_url = \"https://www.rugbypremierleague.in/feeds/live/FixturesAndResults.json\"\n",
        "    fixtures = requests.get(fixtures_url).json().get(\"matches\", [])\n",
        "\n",
        "    all_players_data = []\n",
        "\n",
        "    for match in tqdm(fixtures, desc=\"Extracting matches\"):\n",
        "        match_id = match.get(\"Match_ID\")\n",
        "        if not match_id:\n",
        "            continue\n",
        "\n",
        "        match_date = match.get(\"start_date\", \"\")[:10]\n",
        "        venue = match.get(\"venue_name\", \"\")\n",
        "\n",
        "        players = extract_match_player_stats(match_id, match_date, venue)\n",
        "        if players:\n",
        "            all_players_data.extend(players)\n",
        "        time.sleep(5)  # 💤 Be kind to server\n",
        "\n",
        "    return pd.DataFrame(all_players_data)\n"
      ],
      "metadata": {
        "id": "UmwzFYzgVPyQ"
      },
      "execution_count": null,
      "outputs": []
    },
    {
      "cell_type": "code",
      "source": [
        "df_all = extract_all_matches()\n",
        "df_all.to_csv(\"rpl_all_player_stats.csv\", index=False)\n",
        "print(\"✅ All match player stats saved to 'rpl_all_player_stats.csv'\")\n",
        "print(\"📊 Sample output:\")\n",
        "print(df_all.head())"
      ],
      "metadata": {
        "colab": {
          "base_uri": "https://localhost:8080/"
        },
        "id": "U0vrIjlAYL-8",
        "outputId": "7f9829b9-f6aa-4df8-e220-cd994c2e4d8d"
      },
      "execution_count": null,
      "outputs": [
        {
          "output_type": "stream",
          "name": "stderr",
          "text": [
            "Extracting matches: 100%|██████████| 34/34 [02:54<00:00,  5.13s/it]"
          ]
        },
        {
          "output_type": "stream",
          "name": "stdout",
          "text": [
            "✅ All match player stats saved to 'rpl_all_player_stats.csv'\n",
            "📊 Sample output:\n",
            "  match_id  match_date                           venue                   team  \\\n",
            "0       43  2025-06-15  Andheri Sports Complex, Mumbai  Bengaluru Bravehearts   \n",
            "1       43  2025-06-15  Andheri Sports Complex, Mumbai  Bengaluru Bravehearts   \n",
            "2       43  2025-06-15  Andheri Sports Complex, Mumbai  Bengaluru Bravehearts   \n",
            "3       43  2025-06-15  Andheri Sports Complex, Mumbai  Bengaluru Bravehearts   \n",
            "4       43  2025-06-15  Andheri Sports Complex, Mumbai  Bengaluru Bravehearts   \n",
            "\n",
            "  player_id     player_name jersey_no position minutes_played is_starter  ...  \\\n",
            "0       165         Pol Pla         7     Back             18          1  ...   \n",
            "1       191    Tone Ng Shiu         3   Hybrid             12          1  ...   \n",
            "2       245     Iowane Teba        10     Back              6          0  ...   \n",
            "3       370    Liam Poulton        14     Back             19          1  ...   \n",
            "4       371  Mak Kwai Chung        99     Back             14          0  ...   \n",
            "\n",
            "  others_kick_penalty_good others_kick_possession_retained  \\\n",
            "0                     None                            None   \n",
            "1                     None                            None   \n",
            "2                     None                            None   \n",
            "3                     None                            None   \n",
            "4                     None                            None   \n",
            "\n",
            "  others_kick_try_scored others_penalty_kick_for_touch_metres  \\\n",
            "0                   None                                 None   \n",
            "1                   None                                 None   \n",
            "2                   None                                 None   \n",
            "3                   None                                 None   \n",
            "4                   None                                 None   \n",
            "\n",
            "  others_restart_halfway others_restart_opp_player others_restarts_lost  \\\n",
            "0                   None                      None                 None   \n",
            "1                   None                      None                 None   \n",
            "2                   None                      None                 None   \n",
            "3                   None                      None                 None   \n",
            "4                   None                      None                 None   \n",
            "\n",
            "  others_retained_kicks others_true_retained_kicks others_try_kicks  \n",
            "0                  None                       None             None  \n",
            "1                  None                       None             None  \n",
            "2                  None                       None             None  \n",
            "3                  None                       None             None  \n",
            "4                  None                       None             None  \n",
            "\n",
            "[5 rows x 101 columns]\n"
          ]
        },
        {
          "output_type": "stream",
          "name": "stderr",
          "text": [
            "\n"
          ]
        }
      ]
    },
    {
      "cell_type": "code",
      "source": [
        "df_all.shape"
      ],
      "metadata": {
        "colab": {
          "base_uri": "https://localhost:8080/"
        },
        "id": "bh_6YWndgD1p",
        "outputId": "69bd0b9f-476e-4cad-e769-2e1360cf49af"
      },
      "execution_count": null,
      "outputs": [
        {
          "output_type": "execute_result",
          "data": {
            "text/plain": [
              "(950, 101)"
            ]
          },
          "metadata": {},
          "execution_count": 18
        }
      ]
    },
    {
      "cell_type": "code",
      "source": [
        "df.shape"
      ],
      "metadata": {
        "id": "JIFJFb0GgOz4",
        "outputId": "02d3032d-da89-444f-f380-4481e3010140",
        "colab": {
          "base_uri": "https://localhost:8080/"
        }
      },
      "execution_count": null,
      "outputs": [
        {
          "output_type": "execute_result",
          "data": {
            "text/plain": [
              "(34, 8)"
            ]
          },
          "metadata": {},
          "execution_count": 19
        }
      ]
    }
  ]
}